{
 "cells": [
  {
   "cell_type": "code",
   "execution_count": 1,
   "id": "60bd202f",
   "metadata": {
    "_cell_guid": "b1076dfc-b9ad-4769-8c92-a6c4dae69d19",
    "_uuid": "8f2839f25d086af736a60e9eeb907d3b93b6e0e5",
    "execution": {
     "iopub.execute_input": "2022-01-01T10:11:19.375133Z",
     "iopub.status.busy": "2022-01-01T10:11:19.373979Z",
     "iopub.status.idle": "2022-01-01T10:11:20.397859Z",
     "shell.execute_reply": "2022-01-01T10:11:20.396872Z",
     "shell.execute_reply.started": "2021-12-19T11:44:22.080621Z"
    },
    "papermill": {
     "duration": 1.041915,
     "end_time": "2022-01-01T10:11:20.398090",
     "exception": false,
     "start_time": "2022-01-01T10:11:19.356175",
     "status": "completed"
    },
    "tags": []
   },
   "outputs": [],
   "source": [
    "import pandas as pd\n",
    "import numpy as np\n",
    "import math\n",
    "from sklearn.metrics import accuracy_score, precision_score, recall_score, f1_score\n",
    "from sklearn.feature_extraction.text import ENGLISH_STOP_WORDS"
   ]
  },
  {
   "cell_type": "code",
   "execution_count": 2,
   "id": "0d6f870a",
   "metadata": {
    "execution": {
     "iopub.execute_input": "2022-01-01T10:11:20.440459Z",
     "iopub.status.busy": "2022-01-01T10:11:20.439850Z",
     "iopub.status.idle": "2022-01-01T10:11:20.692068Z",
     "shell.execute_reply": "2022-01-01T10:11:20.692547Z",
     "shell.execute_reply.started": "2021-12-19T11:44:26.326572Z"
    },
    "papermill": {
     "duration": 0.270606,
     "end_time": "2022-01-01T10:11:20.692710",
     "exception": false,
     "start_time": "2022-01-01T10:11:20.422104",
     "status": "completed"
    },
    "tags": []
   },
   "outputs": [
    {
     "data": {
      "text/html": [
       "<div>\n",
       "<style scoped>\n",
       "    .dataframe tbody tr th:only-of-type {\n",
       "        vertical-align: middle;\n",
       "    }\n",
       "\n",
       "    .dataframe tbody tr th {\n",
       "        vertical-align: top;\n",
       "    }\n",
       "\n",
       "    .dataframe thead th {\n",
       "        text-align: right;\n",
       "    }\n",
       "</style>\n",
       "<table border=\"1\" class=\"dataframe\">\n",
       "  <thead>\n",
       "    <tr style=\"text-align: right;\">\n",
       "      <th></th>\n",
       "      <th>text</th>\n",
       "      <th>spam</th>\n",
       "    </tr>\n",
       "  </thead>\n",
       "  <tbody>\n",
       "    <tr>\n",
       "      <th>0</th>\n",
       "      <td>Subject: naturally irresistible your corporate...</td>\n",
       "      <td>1</td>\n",
       "    </tr>\n",
       "    <tr>\n",
       "      <th>1</th>\n",
       "      <td>Subject: the stock trading gunslinger  fanny i...</td>\n",
       "      <td>1</td>\n",
       "    </tr>\n",
       "    <tr>\n",
       "      <th>2</th>\n",
       "      <td>Subject: unbelievable new homes made easy  im ...</td>\n",
       "      <td>1</td>\n",
       "    </tr>\n",
       "    <tr>\n",
       "      <th>3</th>\n",
       "      <td>Subject: 4 color printing special  request add...</td>\n",
       "      <td>1</td>\n",
       "    </tr>\n",
       "    <tr>\n",
       "      <th>4</th>\n",
       "      <td>Subject: do not have money , get software cds ...</td>\n",
       "      <td>1</td>\n",
       "    </tr>\n",
       "    <tr>\n",
       "      <th>...</th>\n",
       "      <td>...</td>\n",
       "      <td>...</td>\n",
       "    </tr>\n",
       "    <tr>\n",
       "      <th>5723</th>\n",
       "      <td>Subject: re : research and development charges...</td>\n",
       "      <td>0</td>\n",
       "    </tr>\n",
       "    <tr>\n",
       "      <th>5724</th>\n",
       "      <td>Subject: re : receipts from visit  jim ,  than...</td>\n",
       "      <td>0</td>\n",
       "    </tr>\n",
       "    <tr>\n",
       "      <th>5725</th>\n",
       "      <td>Subject: re : enron case study update  wow ! a...</td>\n",
       "      <td>0</td>\n",
       "    </tr>\n",
       "    <tr>\n",
       "      <th>5726</th>\n",
       "      <td>Subject: re : interest  david ,  please , call...</td>\n",
       "      <td>0</td>\n",
       "    </tr>\n",
       "    <tr>\n",
       "      <th>5727</th>\n",
       "      <td>Subject: news : aurora 5 . 2 update  aurora ve...</td>\n",
       "      <td>0</td>\n",
       "    </tr>\n",
       "  </tbody>\n",
       "</table>\n",
       "<p>5728 rows × 2 columns</p>\n",
       "</div>"
      ],
      "text/plain": [
       "                                                   text  spam\n",
       "0     Subject: naturally irresistible your corporate...     1\n",
       "1     Subject: the stock trading gunslinger  fanny i...     1\n",
       "2     Subject: unbelievable new homes made easy  im ...     1\n",
       "3     Subject: 4 color printing special  request add...     1\n",
       "4     Subject: do not have money , get software cds ...     1\n",
       "...                                                 ...   ...\n",
       "5723  Subject: re : research and development charges...     0\n",
       "5724  Subject: re : receipts from visit  jim ,  than...     0\n",
       "5725  Subject: re : enron case study update  wow ! a...     0\n",
       "5726  Subject: re : interest  david ,  please , call...     0\n",
       "5727  Subject: news : aurora 5 . 2 update  aurora ve...     0\n",
       "\n",
       "[5728 rows x 2 columns]"
      ]
     },
     "execution_count": 2,
     "metadata": {},
     "output_type": "execute_result"
    }
   ],
   "source": [
    "emails_df = pd.read_csv(\"../input/spam-filter/emails.csv\")\n",
    "emails_df"
   ]
  },
  {
   "cell_type": "code",
   "execution_count": 3,
   "id": "35f0691d",
   "metadata": {
    "execution": {
     "iopub.execute_input": "2022-01-01T10:11:20.725572Z",
     "iopub.status.busy": "2022-01-01T10:11:20.722537Z",
     "iopub.status.idle": "2022-01-01T10:11:20.729158Z",
     "shell.execute_reply": "2022-01-01T10:11:20.728627Z",
     "shell.execute_reply.started": "2021-12-19T11:44:35.663555Z"
    },
    "papermill": {
     "duration": 0.02274,
     "end_time": "2022-01-01T10:11:20.729300",
     "exception": false,
     "start_time": "2022-01-01T10:11:20.706560",
     "status": "completed"
    },
    "tags": []
   },
   "outputs": [
    {
     "data": {
      "text/plain": [
       "(5728, 2)"
      ]
     },
     "execution_count": 3,
     "metadata": {},
     "output_type": "execute_result"
    }
   ],
   "source": [
    "emails_df.shape"
   ]
  },
  {
   "cell_type": "code",
   "execution_count": 4,
   "id": "ee949c43",
   "metadata": {
    "execution": {
     "iopub.execute_input": "2022-01-01T10:11:20.769688Z",
     "iopub.status.busy": "2022-01-01T10:11:20.768802Z",
     "iopub.status.idle": "2022-01-01T10:11:20.799306Z",
     "shell.execute_reply": "2022-01-01T10:11:20.798681Z",
     "shell.execute_reply.started": "2021-12-19T11:44:52.915973Z"
    },
    "papermill": {
     "duration": 0.056168,
     "end_time": "2022-01-01T10:11:20.799451",
     "exception": false,
     "start_time": "2022-01-01T10:11:20.743283",
     "status": "completed"
    },
    "tags": []
   },
   "outputs": [
    {
     "data": {
      "text/plain": [
       "(5695, 2)"
      ]
     },
     "execution_count": 4,
     "metadata": {},
     "output_type": "execute_result"
    }
   ],
   "source": [
    "emails_df = emails_df.drop_duplicates(keep = 'last')\n",
    "emails_df.shape "
   ]
  },
  {
   "cell_type": "code",
   "execution_count": 5,
   "id": "5760637f",
   "metadata": {
    "execution": {
     "iopub.execute_input": "2022-01-01T10:11:20.836047Z",
     "iopub.status.busy": "2022-01-01T10:11:20.835314Z",
     "iopub.status.idle": "2022-01-01T10:11:20.867187Z",
     "shell.execute_reply": "2022-01-01T10:11:20.867654Z",
     "shell.execute_reply.started": "2021-12-19T11:45:01.51281Z"
    },
    "papermill": {
     "duration": 0.054275,
     "end_time": "2022-01-01T10:11:20.867855",
     "exception": false,
     "start_time": "2022-01-01T10:11:20.813580",
     "status": "completed"
    },
    "tags": []
   },
   "outputs": [
    {
     "data": {
      "text/html": [
       "<div>\n",
       "<style scoped>\n",
       "    .dataframe tbody tr th:only-of-type {\n",
       "        vertical-align: middle;\n",
       "    }\n",
       "\n",
       "    .dataframe tbody tr th {\n",
       "        vertical-align: top;\n",
       "    }\n",
       "\n",
       "    .dataframe thead tr th {\n",
       "        text-align: left;\n",
       "    }\n",
       "\n",
       "    .dataframe thead tr:last-of-type th {\n",
       "        text-align: right;\n",
       "    }\n",
       "</style>\n",
       "<table border=\"1\" class=\"dataframe\">\n",
       "  <thead>\n",
       "    <tr>\n",
       "      <th></th>\n",
       "      <th colspan=\"4\" halign=\"left\">text</th>\n",
       "    </tr>\n",
       "    <tr>\n",
       "      <th></th>\n",
       "      <th>count</th>\n",
       "      <th>unique</th>\n",
       "      <th>top</th>\n",
       "      <th>freq</th>\n",
       "    </tr>\n",
       "    <tr>\n",
       "      <th>spam</th>\n",
       "      <th></th>\n",
       "      <th></th>\n",
       "      <th></th>\n",
       "      <th></th>\n",
       "    </tr>\n",
       "  </thead>\n",
       "  <tbody>\n",
       "    <tr>\n",
       "      <th>0</th>\n",
       "      <td>4327</td>\n",
       "      <td>4327</td>\n",
       "      <td>Subject: hello guys ,  i ' m \" bugging you \" f...</td>\n",
       "      <td>1</td>\n",
       "    </tr>\n",
       "    <tr>\n",
       "      <th>1</th>\n",
       "      <td>1368</td>\n",
       "      <td>1368</td>\n",
       "      <td>Subject: naturally irresistible your corporate...</td>\n",
       "      <td>1</td>\n",
       "    </tr>\n",
       "  </tbody>\n",
       "</table>\n",
       "</div>"
      ],
      "text/plain": [
       "      text                                                               \n",
       "     count unique                                                top freq\n",
       "spam                                                                     \n",
       "0     4327   4327  Subject: hello guys ,  i ' m \" bugging you \" f...    1\n",
       "1     1368   1368  Subject: naturally irresistible your corporate...    1"
      ]
     },
     "execution_count": 5,
     "metadata": {},
     "output_type": "execute_result"
    }
   ],
   "source": [
    "# Describing the values in the Spam column\n",
    "emails_df.groupby('spam').describe()"
   ]
  },
  {
   "cell_type": "code",
   "execution_count": 6,
   "id": "1c473129",
   "metadata": {
    "execution": {
     "iopub.execute_input": "2022-01-01T10:11:20.902462Z",
     "iopub.status.busy": "2022-01-01T10:11:20.901789Z",
     "iopub.status.idle": "2022-01-01T10:11:20.922153Z",
     "shell.execute_reply": "2022-01-01T10:11:20.921450Z",
     "shell.execute_reply.started": "2021-12-19T11:45:09.344462Z"
    },
    "papermill": {
     "duration": 0.039723,
     "end_time": "2022-01-01T10:11:20.922307",
     "exception": false,
     "start_time": "2022-01-01T10:11:20.882584",
     "status": "completed"
    },
    "tags": []
   },
   "outputs": [],
   "source": [
    "from sklearn.model_selection import train_test_split\n",
    "X = emails_df.drop(columns=['spam'])\n",
    "Y = emails_df.spam\n",
    "X_train, X_test, y_train, y_test = train_test_split(X, Y, test_size = 0.2, random_state = 42)"
   ]
  },
  {
   "cell_type": "code",
   "execution_count": 7,
   "id": "0fbd4157",
   "metadata": {
    "execution": {
     "iopub.execute_input": "2022-01-01T10:11:20.961740Z",
     "iopub.status.busy": "2022-01-01T10:11:20.960781Z",
     "iopub.status.idle": "2022-01-01T10:11:22.238076Z",
     "shell.execute_reply": "2022-01-01T10:11:22.237482Z",
     "shell.execute_reply.started": "2021-12-19T11:45:17.639673Z"
    },
    "papermill": {
     "duration": 1.301145,
     "end_time": "2022-01-01T10:11:22.238229",
     "exception": false,
     "start_time": "2022-01-01T10:11:20.937084",
     "status": "completed"
    },
    "tags": []
   },
   "outputs": [],
   "source": [
    "#unigram\n",
    "from sklearn.feature_extraction.text import CountVectorizer\n",
    "corpus = X_train['text'].to_numpy()\n",
    "vectorizer = CountVectorizer(min_df = 50)\n",
    "C = vectorizer.fit_transform(corpus)"
   ]
  },
  {
   "cell_type": "code",
   "execution_count": 8,
   "id": "5456f7b5",
   "metadata": {
    "execution": {
     "iopub.execute_input": "2022-01-01T10:11:22.292478Z",
     "iopub.status.busy": "2022-01-01T10:11:22.287400Z",
     "iopub.status.idle": "2022-01-01T10:11:24.579003Z",
     "shell.execute_reply": "2022-01-01T10:11:24.579526Z",
     "shell.execute_reply.started": "2021-12-19T11:45:24.266502Z"
    },
    "papermill": {
     "duration": 2.326013,
     "end_time": "2022-01-01T10:11:24.579711",
     "exception": false,
     "start_time": "2022-01-01T10:11:22.253698",
     "status": "completed"
    },
    "tags": []
   },
   "outputs": [],
   "source": [
    "#bigram\n",
    "vectorizer2 = CountVectorizer(analyzer='word', ngram_range=(2, 2), min_df = 50)\n",
    "C2 = vectorizer2.fit_transform(corpus)"
   ]
  },
  {
   "cell_type": "code",
   "execution_count": 9,
   "id": "7ce3b794",
   "metadata": {
    "execution": {
     "iopub.execute_input": "2022-01-01T10:11:24.618877Z",
     "iopub.status.busy": "2022-01-01T10:11:24.618171Z",
     "iopub.status.idle": "2022-01-01T10:11:26.427870Z",
     "shell.execute_reply": "2022-01-01T10:11:26.427175Z",
     "shell.execute_reply.started": "2021-12-19T11:48:18.553429Z"
    },
    "papermill": {
     "duration": 1.833046,
     "end_time": "2022-01-01T10:11:26.428018",
     "exception": false,
     "start_time": "2022-01-01T10:11:24.594972",
     "status": "completed"
    },
    "tags": []
   },
   "outputs": [
    {
     "name": "stderr",
     "output_type": "stream",
     "text": [
      "/opt/conda/lib/python3.7/site-packages/ipykernel_launcher.py:12: PerformanceWarning: DataFrame is highly fragmented.  This is usually the result of calling `frame.insert` many times, which has poor performance.  Consider joining all columns at once using pd.concat(axis=1) instead.  To get a de-fragmented frame, use `newframe = frame.copy()`\n",
      "  if sys.path[0] == '':\n",
      "/opt/conda/lib/python3.7/site-packages/ipykernel_launcher.py:14: PerformanceWarning: DataFrame is highly fragmented.  This is usually the result of calling `frame.insert` many times, which has poor performance.  Consider joining all columns at once using pd.concat(axis=1) instead.  To get a de-fragmented frame, use `newframe = frame.copy()`\n",
      "  \n"
     ]
    }
   ],
   "source": [
    "X_train_unigram = X_train.drop(columns=['text'])\n",
    "X_train_bigram = X_train_unigram.copy()\n",
    "\n",
    "vocab_unigram = vectorizer.get_feature_names()\n",
    "counts_unigram = C.toarray()\n",
    "\n",
    "vocab_bigram = vectorizer2.get_feature_names()\n",
    "counts_bigram = C2.toarray()\n",
    "\n",
    "#Vectorizing the training datas accordingly\n",
    "for i in range(len(vocab_unigram)):\n",
    "    X_train_unigram[vocab_unigram[i]] = counts_unigram[:,i]\n",
    "for i in range(len(vocab_bigram)):\n",
    "    X_train_bigram[vocab_bigram[i]] = counts_bigram[:,i]"
   ]
  },
  {
   "cell_type": "code",
   "execution_count": 10,
   "id": "a2d9e639",
   "metadata": {
    "execution": {
     "iopub.execute_input": "2022-01-01T10:11:26.466774Z",
     "iopub.status.busy": "2022-01-01T10:11:26.465994Z",
     "iopub.status.idle": "2022-01-01T10:11:26.469115Z",
     "shell.execute_reply": "2022-01-01T10:11:26.468465Z",
     "shell.execute_reply.started": "2021-12-19T11:45:47.035266Z"
    },
    "papermill": {
     "duration": 0.025598,
     "end_time": "2022-01-01T10:11:26.469262",
     "exception": false,
     "start_time": "2022-01-01T10:11:26.443664",
     "status": "completed"
    },
    "tags": []
   },
   "outputs": [],
   "source": [
    "def P_words(spam,ham,vocabulary):\n",
    "    \n",
    "    dict_prob = {} #For each word in vocabulary consist P(word|spam) and P(word|ham)\n",
    "    for word in vocabulary:\n",
    "        #P(word|spam) = [num(word,spam) + @] / [num(spam) + @*len(vocabulary)]\n",
    "        #P(word|ham) = [num(word,ham) + @]/ [num(ham) + @*len(vocabulary)]\n",
    "        ##num(X) --> number of occurences of X. We chose @ = 1.\n",
    "        p_word_given_spam = (len(spam[spam[word] != 0])+1)/(len(spam)+len(vocabulary))\n",
    "        p_word_given_ham = (len(ham[ham[word] != 0])+1)/(len(ham)+len(vocabulary))\n",
    "        \n",
    "        dict_prob[word] = {'spam': p_word_given_spam, 'ham': p_word_given_ham}\n",
    "\n",
    "    return dict_prob"
   ]
  },
  {
   "cell_type": "code",
   "execution_count": 11,
   "id": "94ca153e",
   "metadata": {
    "execution": {
     "iopub.execute_input": "2022-01-01T10:11:26.513307Z",
     "iopub.status.busy": "2022-01-01T10:11:26.512606Z",
     "iopub.status.idle": "2022-01-01T10:11:26.515482Z",
     "shell.execute_reply": "2022-01-01T10:11:26.514959Z",
     "shell.execute_reply.started": "2021-12-19T11:45:58.704317Z"
    },
    "papermill": {
     "duration": 0.03088,
     "end_time": "2022-01-01T10:11:26.515627",
     "exception": false,
     "start_time": "2022-01-01T10:11:26.484747",
     "status": "completed"
    },
    "tags": []
   },
   "outputs": [],
   "source": [
    "def Naive_Bayes(X_train,y_train,X_test,vocabulary,unigram):\n",
    "    \n",
    "    training_set = X_train.copy()\n",
    "    training_set['spam'] = y_train #Adding the label to training set.\n",
    "\n",
    "    spam = training_set[training_set['spam'] == 1] #All mails in training set that are spam\n",
    "    ham = training_set[training_set['spam'] == 0]  #All mails in training set that are ham\n",
    "\n",
    "    dict_prob = P_words(spam,ham,vocabulary)\n",
    "\n",
    "    P_spam = len(spam)/len(training_set)#P(spam)\n",
    "    P_ham = len(ham)/len(training_set)#P(ham)  \n",
    "    \n",
    "    #Vectorizing the test set\n",
    "    corpus = X_test['text'].to_numpy()\n",
    "    if(unigram):\n",
    "        vectorizer_test = CountVectorizer(min_df = 20)\n",
    "    else:\n",
    "        vectorizer_test = CountVectorizer(analyzer='word', ngram_range=(2, 2), min_df = 20)\n",
    "        \n",
    "    C_test = vectorizer_test.fit_transform(corpus)    \n",
    "    \n",
    "    test_set = C_test.toarray() #Counts of words in test_vocab for each mail\n",
    "    test_vocab = vectorizer_test.get_feature_names() #Vocabulary of test set\n",
    "    \n",
    "    results = list() \n",
    "    for row in test_set: #For each mail\n",
    "        P_spamWord = math.log(P_spam)\n",
    "        P_hamWord = math.log(P_ham)\n",
    "        for w_index in range(len(row)):\n",
    "            if(row[w_index] != 0): #If word exists in the mail\n",
    "                word = test_vocab[w_index]\n",
    "                if(word in dict_prob): #If this word is also in training vocabulary\n",
    "                    P_spamWord += math.log(dict_prob[word]['spam'])\n",
    "                    P_hamWord += math.log(dict_prob[word]['ham'])\n",
    "                else:\n",
    "                    continue  #Ignoring the words we have not seen.\n",
    "            else:\n",
    "                continue\n",
    "        if(P_spamWord>P_hamWord):\n",
    "            results.append(1) #Spam\n",
    "        else:\n",
    "            results.append(0) #Ham\n",
    "            \n",
    "    return results"
   ]
  },
  {
   "cell_type": "code",
   "execution_count": 12,
   "id": "0ffbd851",
   "metadata": {
    "execution": {
     "iopub.execute_input": "2022-01-01T10:11:26.553805Z",
     "iopub.status.busy": "2022-01-01T10:11:26.553078Z",
     "iopub.status.idle": "2022-01-01T10:11:39.738319Z",
     "shell.execute_reply": "2022-01-01T10:11:39.737675Z",
     "shell.execute_reply.started": "2021-12-19T11:46:10.428278Z"
    },
    "papermill": {
     "duration": 13.207351,
     "end_time": "2022-01-01T10:11:39.738481",
     "exception": false,
     "start_time": "2022-01-01T10:11:26.531130",
     "status": "completed"
    },
    "tags": []
   },
   "outputs": [],
   "source": [
    "results = Naive_Bayes(X_train_unigram,y_train,X_test,vocab_unigram,True)  ##Unigram\n",
    "results_2 = Naive_Bayes(X_train_bigram,y_train,X_test,vocab_bigram,False) ##Bigram"
   ]
  },
  {
   "cell_type": "code",
   "execution_count": 13,
   "id": "a76fde5e",
   "metadata": {
    "execution": {
     "iopub.execute_input": "2022-01-01T10:11:39.777596Z",
     "iopub.status.busy": "2022-01-01T10:11:39.776623Z",
     "iopub.status.idle": "2022-01-01T10:11:39.804172Z",
     "shell.execute_reply": "2022-01-01T10:11:39.803404Z",
     "shell.execute_reply.started": "2021-12-19T11:46:30.56927Z"
    },
    "papermill": {
     "duration": 0.049468,
     "end_time": "2022-01-01T10:11:39.804355",
     "exception": false,
     "start_time": "2022-01-01T10:11:39.754887",
     "status": "completed"
    },
    "tags": []
   },
   "outputs": [
    {
     "name": "stdout",
     "output_type": "stream",
     "text": [
      "unigram accuracy: 0.7585601404741001\n",
      "unigram precision: 1.0\n",
      "unigram recall: 0.07094594594594594\n",
      "unigram f1_score: 0.13249211356466875\n",
      "\n",
      "bigram accuracy: 0.7936786654960492\n",
      "bigram precision: 1.0\n",
      "bigram recall: 0.20608108108108109\n",
      "bigram f1_score: 0.34173669467787116\n"
     ]
    }
   ],
   "source": [
    "print(\"unigram accuracy:\", accuracy_score(y_test,results))\n",
    "print(\"unigram precision:\", precision_score(y_test,results))\n",
    "print(\"unigram recall:\", recall_score(y_test,results))\n",
    "print(\"unigram f1_score:\", f1_score(y_test,results))\n",
    "\n",
    "print('')\n",
    "\n",
    "print(\"bigram accuracy:\", accuracy_score(y_test,results_2))\n",
    "print(\"bigram precision:\", precision_score(y_test,results_2))\n",
    "print(\"bigram recall:\", recall_score(y_test,results_2))\n",
    "print(\"bigram f1_score:\", f1_score(y_test,results_2))"
   ]
  },
  {
   "cell_type": "code",
   "execution_count": null,
   "id": "a2ee1021",
   "metadata": {
    "papermill": {
     "duration": 0.014991,
     "end_time": "2022-01-01T10:11:39.835947",
     "exception": false,
     "start_time": "2022-01-01T10:11:39.820956",
     "status": "completed"
    },
    "tags": []
   },
   "outputs": [],
   "source": []
  },
  {
   "cell_type": "code",
   "execution_count": null,
   "id": "9735333b",
   "metadata": {
    "papermill": {
     "duration": 0.01515,
     "end_time": "2022-01-01T10:11:39.866512",
     "exception": false,
     "start_time": "2022-01-01T10:11:39.851362",
     "status": "completed"
    },
    "tags": []
   },
   "outputs": [],
   "source": []
  }
 ],
 "metadata": {
  "kernelspec": {
   "display_name": "Python 3",
   "language": "python",
   "name": "python3"
  },
  "language_info": {
   "codemirror_mode": {
    "name": "ipython",
    "version": 3
   },
   "file_extension": ".py",
   "mimetype": "text/x-python",
   "name": "python",
   "nbconvert_exporter": "python",
   "pygments_lexer": "ipython3",
   "version": "3.7.12"
  },
  "papermill": {
   "default_parameters": {},
   "duration": 30.690301,
   "end_time": "2022-01-01T10:11:40.592380",
   "environment_variables": {},
   "exception": null,
   "input_path": "__notebook__.ipynb",
   "output_path": "__notebook__.ipynb",
   "parameters": {},
   "start_time": "2022-01-01T10:11:09.902079",
   "version": "2.3.3"
  }
 },
 "nbformat": 4,
 "nbformat_minor": 5
}
